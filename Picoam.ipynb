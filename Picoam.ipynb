{
 "cells": [
  {
   "cell_type": "markdown",
   "metadata": {},
   "source": [
    "## 9103 Autoranging Picoammeter \n",
    "### Linux Setup \n",
    "\n",
    "command: \"sudo dmesg -C\"\n",
    "\n",
    "Plug in and turn on picoammeter (switch at the back)\n",
    "\n",
    "Use command \"dmesg -H\"\n",
    "\n",
    "Look for message like: \"usb 1-1.3: FTDI USB Serial Device converter now attached to ttyUSB0\"\n",
    "\n",
    "(probably last line)\n",
    "\n",
    "So port is: /dev/ttyUSB0\n",
    "\n",
    "(/dev is devices)"
   ]
  },
  {
   "cell_type": "code",
   "execution_count": 3,
   "metadata": {
    "collapsed": false
   },
   "outputs": [
    {
     "data": {
      "text/plain": [
       "[b'RBD Instruments: PicoAmmeter\\r\\n',\n",
       " b'Firmware Version: 01.37\\r\\n',\n",
       " b'Build: 5-14-13\\r\\n',\n",
       " b'R, Range=AutoR\\r\\n',\n",
       " b'I, sample Interval=0000 mSec\\r\\n',\n",
       " b'L, Chart Log Update Interval=0200 mSec\\r\\n',\n",
       " b'B, BIAS=OFF\\r\\n',\n",
       " b'F, Filter=032\\r\\n',\n",
       " b'V, FormatLen=5\\r\\n',\n",
       " b'CA, Autocal=OFF\\r\\n',\n",
       " b'G, AutoGrounding=DISABLED\\r\\n',\n",
       " b'Q, State=MEASURE\\r\\n',\n",
       " b'P, PID=Pico1     \\r\\n']"
      ]
     },
     "execution_count": 3,
     "metadata": {},
     "output_type": "execute_result"
    }
   ],
   "source": [
    "import serial\n",
    "\n",
    "ser = serial.Serial(port = '/dev/ttyUSB0',\n",
    "                 baudrate = 57600,\n",
    "                 bytesize = serial.EIGHTBITS,\n",
    "                 parity = serial.PARITY_NONE,\n",
    "                 stopbits = serial.STOPBITS_ONE,\n",
    "                 xonxoff = False,\n",
    "                 timeout = 1)\n",
    "\n",
    "def data(mystring):\n",
    "    return bytes(mystring,'utf-8')\n",
    "\n",
    "# Get current configuration\n",
    "ser.write(data('&Q\\n'))\n",
    "ser.readlines()\n"
   ]
  }
 ],
 "metadata": {
  "kernelspec": {
   "display_name": "Python 3",
   "language": "python",
   "name": "python3"
  },
  "language_info": {
   "codemirror_mode": {
    "name": "ipython",
    "version": 3
   },
   "file_extension": ".py",
   "mimetype": "text/x-python",
   "name": "python",
   "nbconvert_exporter": "python",
   "pygments_lexer": "ipython3",
   "version": "3.5.1"
  }
 },
 "nbformat": 4,
 "nbformat_minor": 0
}
