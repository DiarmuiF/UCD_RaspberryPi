{
 "cells": [
  {
   "cell_type": "markdown",
   "metadata": {},
   "source": [
    "### Function for outputting voltages using MCP4725 with the Raspberry Pi\n",
    "\n",
    "This code uses the a library created by Adafruit specifically for this chip\n",
    "\n",
    "Found at: https://github.com/adafruit/Adafruit_Python_MCP4725"
   ]
  },
  {
   "cell_type": "code",
   "execution_count": 4,
   "metadata": {
    "collapsed": false
   },
   "outputs": [],
   "source": [
    "# Import MCP4275 module\n",
    "import Adafruit_MCP4725\n",
    "\n",
    "# Creat DAC instance\n",
    "dac = Adafruit_MCP4725.MCP4725()\n",
    "\n",
    "# Define Vdd (5.17V or 3.29V)\n",
    "Vdd = 5.17\n",
    "\n",
    "# Set desired Vout\n",
    "voltage = 2\n",
    "\n",
    "# set_voltage() func. reads in DAC value not voltage.\n",
    "# Define DAC value to correspond to desired voltage\n",
    "# 12-bit --> 4096 values\n",
    "# 4096 = Vdd, 2048 = Vdd/2 etc.\n",
    "value = (voltage/Vdd)*4096\n",
    "\n",
    "dac.set_voltage(int(value))\n",
    "# Reset to zero when finished"
   ]
  }
 ],
 "metadata": {
  "kernelspec": {
   "display_name": "Python 3",
   "language": "python",
   "name": "python3"
  },
  "language_info": {
   "codemirror_mode": {
    "name": "ipython",
    "version": 3
   },
   "file_extension": ".py",
   "mimetype": "text/x-python",
   "name": "python",
   "nbconvert_exporter": "python",
   "pygments_lexer": "ipython3",
   "version": "3.5.1"
  }
 },
 "nbformat": 4,
 "nbformat_minor": 0
}
