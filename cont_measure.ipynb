{
 "cells": [
  {
   "cell_type": "markdown",
   "metadata": {},
   "source": [
    "### Function for measuring voltage using ADS1115 with the Raspberry Pi\n",
    "\n",
    "This code uses the a library created by Adafruit specifically for this chip\n",
    "\n",
    "found at https://github.com/adafruit/Adafruit_Python_ADS1x15\n"
   ]
  },
  {
   "cell_type": "code",
   "execution_count": null,
   "metadata": {
    "collapsed": false
   },
   "outputs": [],
   "source": [
    "def cont_measure():\n",
    "    import Adafruit_ADS1x15\n",
    "    import time\n",
    "\n",
    "    # Create instance\n",
    "    adc = Adafruit_ADS1x15.ADS1115()\n",
    "\n",
    "    # Set gain (2/3, 1, 2, 4, 8, 16)\n",
    "    GAIN = 1\n",
    "\n",
    "    # Define voltage range\n",
    "    # 4.096 for gain = 1\n",
    "    voltage_range = 4.096/GAIN\n",
    "\n",
    "    # Start continuous measurements\n",
    "    adc.start_adc(0, gain = GAIN)\n",
    "\n",
    "    while True:\n",
    "        # Create list for values\n",
    "        value = [0]\n",
    "        \n",
    "        # Get most recent ADC value\n",
    "        value = adc.get_last_result()\n",
    "\n",
    "        # Voltage is proportional to ADC value\n",
    "        # ADC values go from -32768 to 32767\n",
    "        voltage = (value/32767)*voltage_range\n",
    "\n",
    "        # Output voltage\n",
    "        print('{0:.4f} V'.format(voltage))\n",
    "\n",
    "        #Wait one second and begin again\n",
    "        time.sleep(1)\n",
    "\n",
    "    adc.stop_adc()\n",
    "\n",
    "cont_measure()"
   ]
  }
 ],
 "metadata": {
  "kernelspec": {
   "display_name": "Python 3",
   "language": "python",
   "name": "python3"
  },
  "language_info": {
   "codemirror_mode": {
    "name": "ipython",
    "version": 3
   },
   "file_extension": ".py",
   "mimetype": "text/x-python",
   "name": "python",
   "nbconvert_exporter": "python",
   "pygments_lexer": "ipython3",
   "version": "3.5.1"
  }
 },
 "nbformat": 4,
 "nbformat_minor": 0
}
