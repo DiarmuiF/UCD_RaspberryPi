{
 "cells": [
  {
   "cell_type": "markdown",
   "metadata": {},
   "source": [
    "## Raspi setup IV curve"
   ]
  },
  {
   "cell_type": "code",
   "execution_count": null,
   "metadata": {
    "collapsed": false
   },
   "outputs": [],
   "source": [
    "import Adafruit_ADS1x15\n",
    "import Adafruit_MCP4725\n",
    "import numpy as np\n",
    "import matplotlib.pyplot as plt\n",
    "%matplotlib inline\n",
    "\n",
    "# Create adc and dac instances\n",
    "adc = Adafruit_ADS1x15.ADS1115()\n",
    "dac = Adafruit_MCP4725.MCP4725()\n",
    "\n",
    "# Set max voltage\n",
    "Vdd = 5.17\n",
    "\n",
    "# Set gain on ADC\n",
    "# (2/3, 1, 2, 4, 8, 16)\n",
    "GAIN = 2/3 # Set to 2/3 so range can go up to 5V\n",
    "\n",
    "voltage_range = 4.096/GAIN\n",
    "\n",
    "adc.start(0, #Channel\n",
    "         GAIN)\n",
    "adc_val = [] # Array for storing adc values\n",
    "current_arr = [] # Array for storing current values\n",
    "\n",
    "Resistor = 1000 # Value of resistor in ohms\n",
    "\n",
    "\n",
    "for i in np.arange(0,5,0.1):\n",
    "    # Desired output voltage\n",
    "    voltage_o = i\n",
    "    # set_voltage() func. reads in DAC value not voltage.\n",
    "    # Define DAC value to correspond to desired voltage\n",
    "    # 12-bit --> 4096 values\n",
    "    # 4096 = Vdd, 2048 = Vdd/2 etc.\n",
    "    value_o = (voltage_o/Vdd)*4096\n",
    "    dac.set_voltage(int(value_o))\n",
    "    \n",
    "    # Read in value using ADC\n",
    "    # Read in ADC value\n",
    "    value_i = adc.get_last_result()\n",
    "    \n",
    "    # Convert ADC value to voltage\n",
    "    # ADC is 16-bit\n",
    "    voltage_i = (value_i/32767)*voltage_range\n",
    "    \n",
    "    current = voltage_o/Resistor\n",
    "    adc_val = np.append(adc_val,voltage_i)\n",
    "    current_arr = np.append(current_arr,current)\n",
    "    \n",
    "x = np.arange(0,5,0.01)\n",
    "\n",
    "    \n",
    "plt.plot(i,current)\n",
    "plt.xlabel(\"Output Voltage (V)\")\n",
    "plt.ylabel(\"Current (A)\")\n",
    "plt.show()\n",
    "\n",
    "# Reset DAC to 0    \n",
    "dac.set_voltage(0)\n",
    "\n",
    "# Stop ADC\n",
    "adc.stop_adc()\n"
   ]
  }
 ],
 "metadata": {
  "kernelspec": {
   "display_name": "Python 3",
   "language": "python",
   "name": "python3"
  },
  "language_info": {
   "codemirror_mode": {
    "name": "ipython",
    "version": 3
   },
   "file_extension": ".py",
   "mimetype": "text/x-python",
   "name": "python",
   "nbconvert_exporter": "python",
   "pygments_lexer": "ipython3",
   "version": "3.5.1"
  }
 },
 "nbformat": 4,
 "nbformat_minor": 0
}
